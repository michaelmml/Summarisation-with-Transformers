{
  "cells": [
    {
      "cell_type": "markdown",
      "metadata": {
        "id": "view-in-github",
        "colab_type": "text"
      },
      "source": [
        "<a href=\"https://colab.research.google.com/github/michaelmml/Summarisation-with-Transformers/blob/main/SummTransformer.ipynb\" target=\"_parent\"><img src=\"https://colab.research.google.com/assets/colab-badge.svg\" alt=\"Open In Colab\"/></a>"
      ]
    },
    {
      "cell_type": "code",
      "execution_count": null,
      "metadata": {
        "colab": {
          "base_uri": "https://localhost:8080/"
        },
        "id": "EMg2C8PoGbNd",
        "outputId": "d750b8b3-bf87-4127-cf71-7f5ae7be44f3"
      },
      "outputs": [
        {
          "output_type": "stream",
          "name": "stdout",
          "text": [
            "Mounted at /content/drive\n"
          ]
        }
      ],
      "source": [
        "import math\n",
        "import os\n",
        "import gc\n",
        "import time\n",
        "import re\n",
        "import pandas as pd\n",
        "import numpy as np\n",
        "import matplotlib.pyplot as plt\n",
        "%matplotlib inline \n",
        "\n",
        "from google.colab import drive\n",
        "drive.mount(\"/content/drive\")\n",
        "\n",
        "import tensorflow as tf\n",
        "import tensorflow_datasets as tfds\n",
        "import tensorflow as tf\n",
        "from tensorflow.keras import layers\n",
        "from tensorflow.keras import backend as K\n",
        "import tensorflow_datasets as tfds\n",
        "from keras.preprocessing.text import Tokenizer\n",
        "from keras.preprocessing.sequence import pad_sequences\n",
        "\n",
        "BATCH_SIZE = 64 \n",
        "EPOCHS = 10 \n",
        "\n",
        "# Global parameters\n",
        "root_folder='/content/drive/My Drive/Summarisationv2'\n",
        "DATA_PATH = os.path.abspath(os.path.join(root_folder))\n",
        "train_path = DATA_PATH"
      ]
    },
    {
      "cell_type": "code",
      "execution_count": null,
      "metadata": {
        "id": "3Kk7in3QdM76"
      },
      "outputs": [],
      "source": [
        "df = pd.read_csv(DATA_PATH+\"/financialnewssum2022.csv\")"
      ]
    },
    {
      "cell_type": "markdown",
      "source": [
        "Filter text and summary lengths as desired for model training parameters."
      ],
      "metadata": {
        "id": "vRzJuYvfarwW"
      }
    },
    {
      "cell_type": "code",
      "execution_count": null,
      "metadata": {
        "id": "5G2e12OQdRzj"
      },
      "outputs": [],
      "source": [
        "df = df[df['summary'].apply(lambda x: len(x.split()) >= 7)]"
      ]
    },
    {
      "cell_type": "code",
      "execution_count": null,
      "metadata": {
        "id": "BFE360TYdWAr"
      },
      "outputs": [],
      "source": [
        "cleaned_text = np.array(df['text'])\n",
        "cleaned_summary = np.array(df['summary'])\n",
        "\n",
        "for i in range(len(cleaned_text)):\n",
        "    if len(cleaned_text[i].split()) > 30:\n",
        "        cleaned_text[i] = ' '.join(cleaned_text[i].split()[:30])\n",
        "\n",
        "for i in range(len(cleaned_summary)):\n",
        "    if len(cleaned_summary[i].split()) > 15:\n",
        "        cleaned_summary[i] = ' '.join(cleaned_summary[i].split()[:15])\n",
        "\n",
        "df = pd.DataFrame({'text': cleaned_text, 'summary': cleaned_summary})"
      ]
    },
    {
      "cell_type": "code",
      "execution_count": null,
      "metadata": {
        "id": "IahirVW6dYDN"
      },
      "outputs": [],
      "source": [
        "def subword_tokenize(corpus, vocab_size, max_length):\n",
        "  # Create the vocabulary using Subword tokenization\n",
        "  tokenizer_corpus = tfds.deprecated.text.SubwordTextEncoder.build_from_corpus(\n",
        "    corpus, target_vocab_size=vocab_size)\n",
        "  # Get the final vocab size, adding the eos and sos tokens\n",
        "  num_words = tokenizer_corpus.vocab_size + 2\n",
        "  # Set eos and sos token\n",
        "  sos_token = [num_words-2]\n",
        "  eos_token = [num_words-1]\n",
        "  # Tokenize the corpus\n",
        "  sentences = [sos_token + tokenizer_corpus.encode(sentence) + eos_token\n",
        "          for sentence in corpus]\n",
        "  # Identify the index of the sentences longer than max length\n",
        "  idx_to_remove = [count for count, sent in enumerate(sentences)\n",
        "                 if len(sent) > max_length]\n",
        "  #Pad the sentences\n",
        "  sentences = tf.keras.preprocessing.sequence.pad_sequences(sentences,\n",
        "                                                       value=0,\n",
        "                                                       padding='post',\n",
        "                                                       maxlen=max_length)\n",
        "  \n",
        "  return sentences, tokenizer_corpus, num_words, sos_token, eos_token, idx_to_remove"
      ]
    },
    {
      "cell_type": "code",
      "execution_count": null,
      "metadata": {
        "id": "-u3KSL7OdbDb"
      },
      "outputs": [],
      "source": [
        "MAX_VOCAB_SIZE = 2**14\n",
        "MAX_LENGTH_text = 50\n",
        "MAX_LENGTH_sum = 20\n",
        "\n",
        "# Tokenize and pad the input sequences\n",
        "encoder_inputs, tokenizer_inputs, num_words_inputs, sos_token_input, eos_token_input, del_idx_inputs = subword_tokenize(np.array(df['text']), \n",
        "                                                                                                        MAX_VOCAB_SIZE, MAX_LENGTH_text)\n",
        "# Tokenize and pad the outputs sequences\n",
        "decoder_outputs, tokenizer_outputs, num_words_output, sos_token_output, eos_token_output, del_idx_outputs = subword_tokenize(np.array(df['summary']), \n",
        "                                                                                                        MAX_VOCAB_SIZE, MAX_LENGTH_sum)"
      ]
    },
    {
      "cell_type": "code",
      "execution_count": null,
      "metadata": {
        "id": "Nhc8AAOQfLjt"
      },
      "outputs": [],
      "source": [
        "import pickle\n",
        "\n",
        "# saving\n",
        "with open(DATA_PATH+\"/in_tokenizer.pickle\", 'wb') as handle:\n",
        "    pickle.dump(tokenizer_inputs, handle, protocol=pickle.HIGHEST_PROTOCOL)"
      ]
    },
    {
      "cell_type": "code",
      "execution_count": null,
      "metadata": {
        "id": "vjTBsFmEfQdu"
      },
      "outputs": [],
      "source": [
        "# saving\n",
        "with open(DATA_PATH+\"/out_tokenizer.pickle\", 'wb') as handle:\n",
        "    pickle.dump(tokenizer_outputs, handle, protocol=pickle.HIGHEST_PROTOCOL)"
      ]
    },
    {
      "cell_type": "code",
      "execution_count": null,
      "metadata": {
        "colab": {
          "base_uri": "https://localhost:8080/"
        },
        "id": "kSHPfYG8fSd0",
        "outputId": "d9474626-0ddc-46b5-f91f-a01dee565849"
      },
      "outputs": [
        {
          "output_type": "execute_result",
          "data": {
            "text/plain": [
              "(16910, [16908], [16909], 17175, [17173], [17174])"
            ]
          },
          "metadata": {},
          "execution_count": 7
        }
      ],
      "source": [
        "num_words_inputs, sos_token_input, eos_token_input, num_words_output, sos_token_output, eos_token_output"
      ]
    },
    {
      "cell_type": "markdown",
      "metadata": {
        "id": "-YhUWGgTfVp4"
      },
      "source": [
        "num_words_inputs = 16910;\n",
        "sos_token_input = [16908];\n",
        "eos_token_input = [16909];\n",
        "num_words_output = 17175;\n",
        "sos_token_output = [17173];\n",
        "eos_token_output = [17174];"
      ]
    },
    {
      "cell_type": "code",
      "execution_count": null,
      "metadata": {
        "colab": {
          "base_uri": "https://localhost:8080/"
        },
        "id": "1fv5s1RDfZ1H",
        "outputId": "f21d2d54-cea5-4900-8448-c2a5fb372b2d"
      },
      "outputs": [
        {
          "output_type": "stream",
          "name": "stdout",
          "text": [
            "[[16908    23     1  7341 12686   128 11190     1  4160 15410    17     2\n",
            "      1 11873   916 16033    17 16065    50    52 13489 16684   144    12\n",
            "   2306     2   446  1366  5837  1161  2098  2943  5680   202  7638 16909\n",
            "      0     0     0     0     0     0     0     0     0     0     0     0\n",
            "      0     0]\n",
            " [16908  9023    14  4091     1 13850   281  1953     1  7344 13539  9023\n",
            "      1   183  6325  5654   752  9023 10811    45     1  4594 11940   243\n",
            "   9023  7672 10199   763  5229  8927   449  2592 12107  1545     1  1234\n",
            "   7751  2961 10423 16909     0     0     0     0     0     0     0     0\n",
            "      0     0]\n",
            " [16908   574  1724   897  1441    37     7     4  6724     1    13    81\n",
            "     22   466   172 13628  1299   653     1  1200  7649  7156  9490    27\n",
            "      1  6136  5808   963 15017 16684 15126  7001     2  1037  1959  4504\n",
            "  12963  6039 16909     0     0     0     0     0     0     0     0     0\n",
            "      0     0]\n",
            " [16908    22   551   185   434  1339  2586    32 10148 16684   372  2709\n",
            "      2  1943    58  2085   205  2026    20  8768  5796  8574 10455 13714\n",
            "  14555  1259    37    32  7475    22   119    58   172    32    43  5522\n",
            "  16909     0     0     0     0     0     0     0     0     0     0     0\n",
            "      0     0]\n",
            " [16908     1   802     5   281   899     2  2247     2  1066  2761  6947\n",
            "   3484    77   261  1517 12575 14250   238  9288 10735  1202 15627    97\n",
            "    153   247    86    14   929     1  2316  5265   602     2  8159  1457\n",
            "  16909     0     0     0     0     0     0     0     0     0     0     0\n",
            "      0     0]] [16908] [16909] []\n",
            "[[17173  3792   368  1726     8  1527    18  3994 11258     4   138  8050\n",
            "  17174     0     0     0     0     0     0     0]\n",
            " [17173   989     9  8261   686 14376     2  9053     3  1430 17174     0\n",
            "      0     0     0     0     0     0     0     0]\n",
            " [17173  1558  2138     2   345  2582    58    63     8   419     3     2\n",
            "  15830    50 17174     0     0     0     0     0]\n",
            " [17173    25     1  2183  3363  4064     4  2280 17174     0     0     0\n",
            "      0     0     0     0     0     0     0     0]\n",
            " [17173   792    36  4451  1414    69  2284     3 16514 17174     0     0\n",
            "      0     0     0     0     0     0     0     0]] [17173] [17174] []\n"
          ]
        },
        {
          "output_type": "execute_result",
          "data": {
            "text/plain": [
              "(16910, 17175)"
            ]
          },
          "metadata": {},
          "execution_count": 7
        }
      ],
      "source": [
        "# Check the tokenize function\n",
        "print(encoder_inputs[:5], sos_token_input, eos_token_input, del_idx_inputs)\n",
        "print(decoder_outputs[:5], sos_token_output, eos_token_output, del_idx_outputs)\n",
        "num_words_inputs, num_words_output"
      ]
    },
    {
      "cell_type": "code",
      "execution_count": null,
      "metadata": {
        "id": "f6CKHE5vfbbM"
      },
      "outputs": [],
      "source": [
        "# Define a dataset \n",
        "dataset = tf.data.Dataset.from_tensor_slices(\n",
        "    (encoder_inputs, decoder_outputs))\n",
        "dataset = dataset.shuffle(len(np.array(df['text'])), reshuffle_each_iteration=True).batch(\n",
        "    BATCH_SIZE, drop_remainder=True)\n",
        "\n",
        "dataset = dataset.prefetch(tf.data.experimental.AUTOTUNE)"
      ]
    },
    {
      "cell_type": "markdown",
      "metadata": {
        "id": "UvrfHP56QDrq"
      },
      "source": [
        "Tensors are generalizations of scalars (that have no indices), vectors (that have exactly one index), and matrices (that have exactly two indices) to an arbitrary number of indices."
      ]
    },
    {
      "cell_type": "code",
      "execution_count": null,
      "metadata": {
        "id": "fZWj24obHDLL"
      },
      "outputs": [],
      "source": [
        "def scaled_dot_product_attention(q,k,v,mask):\n",
        "  matmul_qk = tf.matmul(q, k, transpose_b=True)\n",
        "  dk = tf.cast(tf.shape(k)[-1], tf.float32)\n",
        "  # Cast tensor to new type; x = tf.constant([1.8, 2.2], dtype=tf.float32); tf.cast(x, tf.int32) => Tensor shape(2,), dtype=int32, numpy=array([1,2], dtype=int32)\n",
        "\n",
        "  scaled_attention = matmul_qk / tf.math.sqrt(dk)\n",
        "  # add the mask\n",
        "  if mask is not None:\n",
        "    scaled_attention += (mask * -1e9)\n",
        "  \n",
        "  attention_weights = tf.nn.softmax(scaled_attention, axis=-1)\n",
        "  output = tf.matmul(attention_weights, v)\n",
        "\n",
        "  return output, attention_weights"
      ]
    },
    {
      "cell_type": "markdown",
      "metadata": {
        "id": "hjb2O7KITDlM"
      },
      "source": [
        "Example set of query, keys and value and resulting scaled dot product attention."
      ]
    },
    {
      "cell_type": "code",
      "execution_count": null,
      "metadata": {
        "id": "R-eOjWdrlfjp"
      },
      "outputs": [],
      "source": [
        "class MultiHeadAttention(tf.keras.layers.Layer):\n",
        "  def __init__(self, d_model, num_heads):\n",
        "    super(MultiHeadAttention, self).__init__()\n",
        "    self.num_heads = num_heads\n",
        "    self.d_model = d_model\n",
        "\n",
        "    assert d_model % self.num_heads == 0\n",
        "\n",
        "    self.depth = d_model // self.num_heads\n",
        "    \n",
        "    self.wq = tf.keras.layers.Dense(d_model)\n",
        "    self.wk = tf.keras.layers.Dense(d_model)\n",
        "    self.wv = tf.keras.layers.Dense(d_model)\n",
        "    self.dense = tf.keras.layers.Dense(d_model)\n",
        "\n",
        "  def split_heads(self, x, batch_size):\n",
        "    x = tf.reshape(x, (batch_size, -1, self.num_heads, self.depth))\n",
        "    return tf.transpose(x, perm=[0,2,1,3])\n",
        "\n",
        "  def call(self, v, k, q, mask):\n",
        "    batch_size = tf.shape(q)[0]\n",
        "\n",
        "    q = self.wq(q)  # (batch_size, seq_len, d_model)\n",
        "    k = self.wk(k)  # (batch_size, seq_len, d_model)\n",
        "    v = self.wv(v)  # (batch_size, seq_len, d_model)\n",
        "\n",
        "    q = self.split_heads(q, batch_size)  # (batch_size, num_heads, seq_len_q, depth)\n",
        "    k = self.split_heads(k, batch_size)  # (batch_size, num_heads, seq_len_k, depth)\n",
        "    v = self.split_heads(v, batch_size)  # (batch_size, num_heads, seq_len_v, depth)\n",
        "\n",
        "    # scaled_attention.shape == (batch_size, num_heads, seq_len_q, depth)\n",
        "    # attention_weights.shape == (batch_size, num_heads, seq_len_q, seq_len_k)\n",
        "    scaled_attention, attention_weights = scaled_dot_product_attention(\n",
        "        q, k, v, mask)\n",
        "\n",
        "    scaled_attention = tf.transpose(scaled_attention, perm=[0, 2, 1, 3])  # (batch_size, seq_len_q, num_heads, depth)\n",
        "\n",
        "    concat_attention = tf.reshape(scaled_attention,\n",
        "                                  (batch_size, -1, self.d_model))  # (batch_size, seq_len_q, d_model)\n",
        "\n",
        "    output = self.dense(concat_attention)  # (batch_size, seq_len_q, d_model)\n",
        "\n",
        "    return output, attention_weights"
      ]
    },
    {
      "cell_type": "markdown",
      "metadata": {
        "id": "LxBGRITZDSRu"
      },
      "source": [
        "The positional encoding vector is added to the embedding vector.\n",
        "But the embeddings do not encode the relative position of tokens in a sentence. So after adding the positional encoding, tokens will be closer to each other based on the similarity of their meaning and their position in the sentence, in the d-dimensional space."
      ]
    },
    {
      "cell_type": "code",
      "execution_count": null,
      "metadata": {
        "id": "TeG3gs7vBeMU"
      },
      "outputs": [],
      "source": [
        "class PositionalEncoding(layers.Layer):\n",
        "\n",
        "    def __init__(self):\n",
        "        super(PositionalEncoding, self).__init__()\n",
        "    \n",
        "    def get_angles(self, pos, i, d_model): # pos: (seq_length, 1) i: (1, d_model)\n",
        "        angles = 1 / np.power(10000., (2*(i//2)) / np.float32(d_model))\n",
        "        return pos * angles\n",
        "\n",
        "    def call(self, inputs):\n",
        "        # input shape batch_size, seq_length, d_model\n",
        "        seq_length = inputs.shape.as_list()[-2]\n",
        "        d_model = inputs.shape.as_list()[-1]\n",
        "        \n",
        "        angles = self.get_angles(np.arange(seq_length)[:, np.newaxis],\n",
        "                                 np.arange(d_model)[np.newaxis, :],\n",
        "                                 d_model)\n",
        "        # Calculate the positional encodings\n",
        "        angles[:, 0::2] = np.sin(angles[:, 0::2])\n",
        "        angles[:, 1::2] = np.cos(angles[:, 1::2])\n",
        "        # Expand the encodings with a new dimension using np.newaxis\n",
        "        pos_encoding = angles[np.newaxis, ...]\n",
        "        \n",
        "        return tf.cast(pos_encoding, tf.float32) + inputs"
      ]
    },
    {
      "cell_type": "markdown",
      "metadata": {
        "id": "ExbcHTxuULde"
      },
      "source": [
        "![transformer.png](data:image/png;base64,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)"
      ]
    },
    {
      "cell_type": "code",
      "execution_count": null,
      "metadata": {
        "id": "EPDnHFkdHL_l"
      },
      "outputs": [],
      "source": [
        "class EncoderLayer(layers.Layer):\n",
        "    \n",
        "    def __init__(self, d_model, FFN_units, n_heads, dropout_rate):\n",
        "        super(EncoderLayer, self).__init__()\n",
        "        self.FFN_units = FFN_units\n",
        "        self.n_heads = n_heads\n",
        "        self.d_model = d_model\n",
        "        self.dropout_rate = dropout_rate\n",
        "    \n",
        "    def build(self, input_shape):\n",
        "        # Build the multihead layer\n",
        "        self.multi_head_attention = MultiHeadAttention(self.d_model, self.n_heads)\n",
        "        self.dropout_1 = layers.Dropout(rate=self.dropout_rate)\n",
        "        # Layer Normalization\n",
        "        self.norm_1 = layers.LayerNormalization(epsilon=1e-6)\n",
        "        # Fully connected feed forward layer\n",
        "        self.ffn1_relu = layers.Dense(units=self.FFN_units, activation=\"relu\")\n",
        "        self.ffn2 = layers.Dense(units=self.d_model)\n",
        "        self.dropout_2 = layers.Dropout(rate=self.dropout_rate)\n",
        "        # Layer normalization\n",
        "        self.norm_2 = layers.LayerNormalization(epsilon=1e-6)\n",
        "        \n",
        "    def call(self, inputs, mask, training):\n",
        "        # Forward pass of the multi-head attention\n",
        "        attention, _ = self.multi_head_attention(inputs,\n",
        "                                              inputs,\n",
        "                                              inputs,\n",
        "                                              mask)\n",
        "        attention = self.dropout_1(attention, training=training)\n",
        "        # Call to the residual connection and layer normalization\n",
        "        attention = self.norm_1(attention + inputs)\n",
        "        # Call to the FC layer\n",
        "        outputs = self.ffn1_relu(attention)\n",
        "        outputs = self.ffn2(outputs)\n",
        "        outputs = self.dropout_2(outputs, training=training)\n",
        "        # Call to residual connection and the layer normalization\n",
        "        outputs = self.norm_2(outputs + attention)\n",
        "        \n",
        "        return outputs"
      ]
    },
    {
      "cell_type": "code",
      "execution_count": null,
      "metadata": {
        "id": "Mr2kVE_TIUor"
      },
      "outputs": [],
      "source": [
        "class Encoder(layers.Layer):\n",
        "    \n",
        "    def __init__(self,\n",
        "                 n_layers,\n",
        "                 FFN_units,\n",
        "                 n_heads,\n",
        "                 dropout_rate,\n",
        "                 vocab_size,\n",
        "                 d_model,\n",
        "                 name=\"encoder\"):\n",
        "        super(Encoder, self).__init__(name=name)\n",
        "        self.n_layers = n_layers\n",
        "        self.d_model = d_model\n",
        "        # The embedding layer\n",
        "        self.embedding = layers.Embedding(vocab_size, d_model)\n",
        "        # Positional encoding layer\n",
        "        self.pos_encoding = PositionalEncoding()\n",
        "        self.dropout = layers.Dropout(rate=dropout_rate)\n",
        "        # Stack of n layers of multi-head attention and FC\n",
        "        self.enc_layers = [EncoderLayer(d_model, FFN_units,\n",
        "                                        n_heads,\n",
        "                                        dropout_rate) \n",
        "                           for _ in range(n_layers)]\n",
        "    \n",
        "    def call(self, inputs, mask, training):\n",
        "        # Get the embedding vectors\n",
        "        outputs = self.embedding(inputs)\n",
        "        # Scale the embeddings by sqrt of d_model\n",
        "        outputs *= tf.math.sqrt(tf.cast(self.d_model, tf.float32))\n",
        "        # Positional encodding\n",
        "        outputs = self.pos_encoding(outputs)\n",
        "        outputs = self.dropout(outputs, training)\n",
        "        # Call the stacked layers\n",
        "        for i in range(self.n_layers):\n",
        "            outputs = self.enc_layers[i](outputs, mask, training)\n",
        "\n",
        "        return outputs"
      ]
    },
    {
      "cell_type": "code",
      "execution_count": null,
      "metadata": {
        "id": "K3HMHCIKIi-5"
      },
      "outputs": [],
      "source": [
        "class DecoderLayer(layers.Layer):\n",
        "    \n",
        "    def __init__(self, d_model, FFN_units, n_heads, dropout_rate):\n",
        "        super(DecoderLayer, self).__init__()\n",
        "        self.d_model = d_model\n",
        "        self.FFN_units = FFN_units\n",
        "        self.n_heads = n_heads\n",
        "        self.dropout_rate = dropout_rate\n",
        "    \n",
        "    def build(self, input_shape):\n",
        "        # self.d_model = input_shape[-1]\n",
        "        # Self multi head attention, causal attention\n",
        "        self.multi_head_causal_attention = MultiHeadAttention(self.d_model, self.n_heads)\n",
        "        self.dropout_1 = layers.Dropout(rate=self.dropout_rate)\n",
        "        self.norm_1 = layers.LayerNormalization(epsilon=1e-6)\n",
        "        \n",
        "        # Multi head attention, encoder-decoder attention \n",
        "        self.multi_head_enc_dec_attention = MultiHeadAttention(self.d_model, self.n_heads)\n",
        "        self.dropout_2 = layers.Dropout(rate=self.dropout_rate)\n",
        "        self.norm_2 = layers.LayerNormalization(epsilon=1e-6)\n",
        "        \n",
        "        # Feed foward\n",
        "        self.ffn1_relu = layers.Dense(units=self.FFN_units,\n",
        "                                    activation=\"relu\")\n",
        "        self.ffn2 = layers.Dense(units=self.d_model)\n",
        "        self.dropout_3 = layers.Dropout(rate=self.dropout_rate)\n",
        "        self.norm_3 = layers.LayerNormalization(epsilon=1e-6)\n",
        "        \n",
        "    def call(self, inputs, enc_outputs, mask_1, mask_2, training):\n",
        "        # Call the masked self-attention\n",
        "        attention, attn_weights_block1 = self.multi_head_causal_attention(inputs,\n",
        "                                                inputs,\n",
        "                                                inputs,\n",
        "                                                mask_1)\n",
        "        attention = self.dropout_1(attention, training)\n",
        "        # Residual connection and layer normalization\n",
        "        attention = self.norm_1(attention + inputs)\n",
        "        # Call the encoder-decoder attention\n",
        "        attention_2, attn_weights_block2 = self.multi_head_enc_dec_attention(enc_outputs,\n",
        "                                                  enc_outputs,\n",
        "                                                  attention,\n",
        "                                                  mask_2)\n",
        "        attention_2 = self.dropout_2(attention_2, training)\n",
        "        # Residual connection and layer normalization\n",
        "        attention_2 = self.norm_2(attention_2 + attention)\n",
        "        # Call the Feed forward\n",
        "        outputs = self.ffn1_relu(attention_2)\n",
        "        outputs = self.ffn2(outputs)\n",
        "        outputs = self.dropout_3(outputs, training)\n",
        "        # Residual connection and layer normalization\n",
        "        outputs = self.norm_3(outputs + attention_2)\n",
        "        \n",
        "        return outputs, attn_weights_block1, attn_weights_block2"
      ]
    },
    {
      "cell_type": "code",
      "execution_count": null,
      "metadata": {
        "id": "pMQ2WICgKHmv"
      },
      "outputs": [],
      "source": [
        "class Decoder(layers.Layer):\n",
        "    \n",
        "    def __init__(self,\n",
        "                 n_layers,\n",
        "                 FFN_units,\n",
        "                 n_heads,\n",
        "                 dropout_rate,\n",
        "                 vocab_size,\n",
        "                 d_model,\n",
        "                 name=\"decoder\"):\n",
        "        super(Decoder, self).__init__(name=name)\n",
        "        self.d_model = d_model\n",
        "        self.n_layers = n_layers\n",
        "        # Embedding layer\n",
        "        self.embedding = layers.Embedding(vocab_size, d_model)\n",
        "        # Positional encoding layer\n",
        "        self.pos_encoding = PositionalEncoding()\n",
        "        self.dropout = layers.Dropout(rate=dropout_rate)\n",
        "        # Stacked layers of multi-head attention and feed forward\n",
        "        self.dec_layers = [DecoderLayer(d_model, FFN_units,\n",
        "                                        n_heads,\n",
        "                                        dropout_rate) \n",
        "                           for _ in range(n_layers)]\n",
        "    \n",
        "    def call(self, inputs, enc_outputs, mask_1, mask_2, training):\n",
        "        attention_weights = {}\n",
        "        # Get the embedding vectors\n",
        "        outputs = self.embedding(inputs)\n",
        "        # Scale by sqrt of d_model\n",
        "        outputs *= tf.math.sqrt(tf.cast(self.d_model, tf.float32))\n",
        "        # Positional encodding\n",
        "        outputs = self.pos_encoding(outputs)\n",
        "        outputs = self.dropout(outputs, training)\n",
        "        # Call the stacked layers\n",
        "        for i in range(self.n_layers):\n",
        "            outputs, block1, block2 = self.dec_layers[i](outputs,\n",
        "                                         enc_outputs,\n",
        "                                         mask_1,\n",
        "                                         mask_2,\n",
        "                                         training)\n",
        "            attention_weights[f'decoder_layer{i+1}_block1'] = block1\n",
        "            attention_weights[f'decoder_layer{i+1}_block2'] = block2\n",
        "        \n",
        "        return outputs, attention_weights"
      ]
    },
    {
      "cell_type": "code",
      "execution_count": null,
      "metadata": {
        "id": "QYSy0r807hCH"
      },
      "outputs": [],
      "source": [
        "def create_padding_mask(seq):\n",
        "  mask = tf.cast(tf.math.equal(seq, 0), tf.float32)\n",
        "  return mask[:, tf.newaxis, tf.newaxis, :] \n",
        "\n",
        "def create_look_ahead_mask(seq):\n",
        "  seq_len = tf.shape(seq)[1]\n",
        "  look_ahead_mask = 1 - tf.linalg.band_part(tf.ones((seq_len, seq_len)), -1, 0)\n",
        "  return look_ahead_mask"
      ]
    },
    {
      "cell_type": "code",
      "execution_count": null,
      "metadata": {
        "id": "TFMoxeZyKdHU"
      },
      "outputs": [],
      "source": [
        "class Transformer(tf.keras.Model):\n",
        "    \n",
        "    def __init__(self,\n",
        "                 vocab_size_enc,\n",
        "                 vocab_size_dec,\n",
        "                 d_model,\n",
        "                 n_layers,\n",
        "                 FFN_units,\n",
        "                 n_heads,\n",
        "                 dropout_rate,\n",
        "                 name=\"transformer\"):\n",
        "        super(Transformer, self).__init__(name=name)\n",
        "        # Build the encoder\n",
        "        self.encoder = Encoder(n_layers,\n",
        "                               FFN_units,\n",
        "                               n_heads,\n",
        "                               dropout_rate,\n",
        "                               vocab_size_enc,\n",
        "                               d_model)\n",
        "        # Build the decoder\n",
        "        self.decoder = Decoder(n_layers,\n",
        "                               FFN_units,\n",
        "                               n_heads,\n",
        "                               dropout_rate,\n",
        "                               vocab_size_dec,\n",
        "                               d_model)\n",
        "        # build the linear transformation and softmax function\n",
        "        self.last_linear = layers.Dense(units=vocab_size_dec, name=\"lin_ouput\")\n",
        "    \n",
        "    def call(self, enc_inputs, dec_inputs, training):\n",
        "        # Create the padding mask for the encoder\n",
        "        enc_mask = create_padding_mask(enc_inputs)\n",
        "        # Create the mask for the causal attention\n",
        "        dec_mask_1 = tf.maximum(\n",
        "            create_padding_mask(dec_inputs),\n",
        "            create_look_ahead_mask(dec_inputs)\n",
        "        )\n",
        "        # Create the mask for the encoder-decoder attention\n",
        "        dec_mask_2 = create_padding_mask(enc_inputs)\n",
        "        # Call the encoder\n",
        "        enc_outputs = self.encoder(enc_inputs, enc_mask, training)\n",
        "        # Call the decoder\n",
        "        dec_outputs, attention_weights = self.decoder(dec_inputs,\n",
        "                                   enc_outputs,\n",
        "                                   dec_mask_1,\n",
        "                                   dec_mask_2,\n",
        "                                   training)\n",
        "        # Call the Linear and Softmax functions\n",
        "        outputs = self.last_linear(dec_outputs)\n",
        "        \n",
        "        return outputs, attention_weights"
      ]
    },
    {
      "cell_type": "code",
      "execution_count": null,
      "metadata": {
        "id": "SEHpj8O2K8_Y"
      },
      "outputs": [],
      "source": [
        "def loss_function(target, pred):\n",
        "    mask = tf.math.logical_not(tf.math.equal(target, 0))\n",
        "    loss_ = loss_object(target, pred)\n",
        "    \n",
        "    mask = tf.cast(mask, dtype=loss_.dtype)\n",
        "    loss_ *= mask\n",
        "    \n",
        "    return tf.reduce_mean(loss_)\n",
        "\n",
        "class CustomSchedule(tf.keras.optimizers.schedules.LearningRateSchedule):\n",
        "    \n",
        "    def __init__(self, d_model, warmup_steps=4000):\n",
        "        super(CustomSchedule, self).__init__()\n",
        "        \n",
        "        self.d_model = tf.cast(d_model, tf.float32)\n",
        "        self.warmup_steps = warmup_steps\n",
        "    \n",
        "    def __call__(self, step):\n",
        "        arg1 = tf.math.rsqrt(step)\n",
        "        arg2 = step * (self.warmup_steps**-1.5)\n",
        "        \n",
        "        return tf.math.rsqrt(self.d_model) * tf.math.minimum(arg1, arg2)"
      ]
    },
    {
      "cell_type": "code",
      "execution_count": null,
      "metadata": {
        "id": "S9eojOPWK9zK"
      },
      "outputs": [],
      "source": [
        "def main_train(dataset, transformer, n_epochs, print_every=50):\n",
        "  ''' Train the transformer model for n_epochs using the data generator dataset'''\n",
        "  losses = []\n",
        "  accuracies = []\n",
        "  # In every epoch\n",
        "  for epoch in range(n_epochs):\n",
        "    print(\"Starting epoch {}\".format(epoch+1))\n",
        "    start = time.time()\n",
        "    \n",
        "    train_loss.reset_states()\n",
        "    train_accuracy.reset_states()\n",
        "    # Get a batch of inputs and targets\n",
        "    for (batch, (enc_inputs, targets)) in enumerate(dataset):\n",
        "        # Set the decoder inputs\n",
        "        dec_inputs = targets[:, :-1]\n",
        "        # Set the target outputs, right shifted\n",
        "        dec_outputs_real = targets[:, 1:]\n",
        "        with tf.GradientTape() as tape:\n",
        "            # Call the transformer and get the predicted output\n",
        "            predictions, _ = transformer(enc_inputs, dec_inputs, True)\n",
        "            # Calculate the loss\n",
        "            loss = loss_function(dec_outputs_real, predictions)\n",
        "        # Update the weights and optimizer\n",
        "        gradients = tape.gradient(loss, transformer.trainable_variables)\n",
        "        optimizer.apply_gradients(zip(gradients, transformer.trainable_variables))\n",
        "        # Save and store the metrics\n",
        "        train_loss(loss)\n",
        "        train_accuracy(dec_outputs_real, predictions)\n",
        "        \n",
        "        if batch % print_every == 0:\n",
        "            losses.append(train_loss.result())\n",
        "            accuracies.append(train_accuracy.result())\n",
        "            print(\"Epoch {} Batch {} Loss {:.4f} Accuracy {:.4f}\".format(\n",
        "                epoch+1, batch, train_loss.result(), train_accuracy.result()))\n",
        "            \n",
        "    # Checkpoint the model on every epoch        \n",
        "    ckpt_save_path = ckpt_manager.save()\n",
        "    print(\"Saving checkpoint for epoch {} in {}\".format(epoch+1,\n",
        "                                                        ckpt_save_path))\n",
        "    print(\"Time for 1 epoch: {} secs\\n\".format(time.time() - start))\n",
        "\n",
        "  return losses, accuracies"
      ]
    },
    {
      "cell_type": "code",
      "execution_count": null,
      "metadata": {
        "id": "oOuhOOf2Mplc"
      },
      "outputs": [],
      "source": [
        "# Set hyperparamters for the model\n",
        "D_MODEL = 512 # 512\n",
        "N_LAYERS = 4 # 6\n",
        "FFN_UNITS = 512 # 2048\n",
        "N_HEADS = 8 # 8\n",
        "DROPOUT_RATE = 0.1 # 0.1"
      ]
    },
    {
      "cell_type": "code",
      "execution_count": null,
      "metadata": {
        "id": "U8NqQmWWM63j"
      },
      "outputs": [],
      "source": [
        "# Clean the session\n",
        "tf.keras.backend.clear_session()\n",
        "# Create the Transformer model\n",
        "transformer = Transformer(vocab_size_enc=num_words_inputs,\n",
        "                          vocab_size_dec=num_words_output,\n",
        "                          d_model=D_MODEL,\n",
        "                          n_layers=N_LAYERS,\n",
        "                          FFN_units=FFN_UNITS,\n",
        "                          n_heads=N_HEADS,\n",
        "                          dropout_rate=DROPOUT_RATE)\n",
        "\n",
        "# Define a categorical cross entropy loss\n",
        "loss_object = tf.keras.losses.SparseCategoricalCrossentropy(from_logits=True,\n",
        "                                                            reduction=\"none\")\n",
        "# Define a metric to store the mean loss of every epoch\n",
        "train_loss = tf.keras.metrics.Mean(name=\"train_loss\")\n",
        "# Define a matric to save the accuracy in every epoch\n",
        "train_accuracy = tf.keras.metrics.SparseCategoricalAccuracy(name=\"train_accuracy\")\n",
        "# Create the scheduler for learning rate decay\n",
        "leaning_rate = CustomSchedule(D_MODEL)\n",
        "# Create the Adam optimizer\n",
        "optimizer = tf.keras.optimizers.Adam(leaning_rate,\n",
        "                                     beta_1=0.9,\n",
        "                                     beta_2=0.98,\n",
        "                                     epsilon=1e-9)"
      ]
    },
    {
      "cell_type": "code",
      "source": [
        "import pickle\n",
        "\n",
        "with open(DATA_PATH+\"/in_tokenizer.pickle\", 'rb') as handle:\n",
        "    tokenizer_inputs = pickle.load(handle)\n",
        "\n",
        "with open(DATA_PATH+\"/out_tokenizer.pickle\", 'rb') as handle:\n",
        "    tokenizer_outputs = pickle.load(handle)"
      ],
      "metadata": {
        "id": "EgHh6o016FnO"
      },
      "execution_count": null,
      "outputs": []
    },
    {
      "cell_type": "code",
      "source": [
        "num_words_inputs = 16910\n",
        "sos_token_input = [16908]\n",
        "eos_token_input = [16909]\n",
        "num_words_output = 17175\n",
        "sos_token_output = [17173]\n",
        "eos_token_output = [17174]"
      ],
      "metadata": {
        "id": "dpyxMRBa6U5l"
      },
      "execution_count": null,
      "outputs": []
    },
    {
      "cell_type": "code",
      "execution_count": null,
      "metadata": {
        "colab": {
          "base_uri": "https://localhost:8080/"
        },
        "id": "790KMIPVM913",
        "outputId": "3a5779d7-9bd6-4143-c522-f1f7ec96d8ac"
      },
      "outputs": [
        {
          "output_type": "stream",
          "name": "stdout",
          "text": [
            "Last checkpoint restored.\n"
          ]
        }
      ],
      "source": [
        "#Create the Checkpoint \n",
        "ckpt = tf.train.Checkpoint(transformer=transformer,\n",
        "                           optimizer=optimizer)\n",
        "\n",
        "ckpt_manager = tf.train.CheckpointManager(ckpt, DATA_PATH, max_to_keep=2)\n",
        "\n",
        "if ckpt_manager.latest_checkpoint:\n",
        "    ckpt.restore(ckpt_manager.latest_checkpoint)\n",
        "    print(\"Last checkpoint restored.\")"
      ]
    },
    {
      "cell_type": "code",
      "execution_count": null,
      "metadata": {
        "id": "lt3GH2L9M_1m",
        "colab": {
          "base_uri": "https://localhost:8080/"
        },
        "outputId": "41809796-515c-429e-8f1c-dc9a162058aa"
      },
      "outputs": [
        {
          "output_type": "stream",
          "name": "stdout",
          "text": [
            "Starting epoch 1\n",
            "Epoch 1 Batch 0 Loss 0.1211 Accuracy 0.6003\n",
            "Epoch 1 Batch 100 Loss 0.1203 Accuracy 0.5859\n",
            "Saving checkpoint for epoch 1 in /content/drive/My Drive/Summarisationv2/ckpt-36\n",
            "Time for 1 epoch: 126.97376608848572 secs\n",
            "\n",
            "Starting epoch 2\n",
            "Epoch 2 Batch 0 Loss 0.0960 Accuracy 0.5831\n",
            "Epoch 2 Batch 100 Loss 0.1133 Accuracy 0.5863\n",
            "Saving checkpoint for epoch 2 in /content/drive/My Drive/Summarisationv2/ckpt-37\n",
            "Time for 1 epoch: 56.11197638511658 secs\n",
            "\n",
            "Starting epoch 3\n",
            "Epoch 3 Batch 0 Loss 0.0942 Accuracy 0.5979\n",
            "Epoch 3 Batch 100 Loss 0.1030 Accuracy 0.5896\n",
            "Saving checkpoint for epoch 3 in /content/drive/My Drive/Summarisationv2/ckpt-38\n",
            "Time for 1 epoch: 54.188207149505615 secs\n",
            "\n",
            "Starting epoch 4\n",
            "Epoch 4 Batch 0 Loss 0.0868 Accuracy 0.6069\n",
            "Epoch 4 Batch 100 Loss 0.0978 Accuracy 0.5897\n",
            "Saving checkpoint for epoch 4 in /content/drive/My Drive/Summarisationv2/ckpt-39\n",
            "Time for 1 epoch: 55.574565172195435 secs\n",
            "\n",
            "Starting epoch 5\n",
            "Epoch 5 Batch 0 Loss 0.0861 Accuracy 0.6094\n",
            "Epoch 5 Batch 100 Loss 0.0909 Accuracy 0.5911\n",
            "Saving checkpoint for epoch 5 in /content/drive/My Drive/Summarisationv2/ckpt-40\n",
            "Time for 1 epoch: 54.07593131065369 secs\n",
            "\n"
          ]
        }
      ],
      "source": [
        "# Train the model\n",
        "losses, accuracies = main_train(dataset, transformer, 5, 100)"
      ]
    },
    {
      "cell_type": "code",
      "execution_count": null,
      "metadata": {
        "id": "RAyievyvNBMz",
        "colab": {
          "base_uri": "https://localhost:8080/",
          "height": 335
        },
        "outputId": "439719c9-c304-4da3-98c0-1829dd4c43b4"
      },
      "outputs": [
        {
          "output_type": "display_data",
          "data": {
            "image/png": "[encoded data removed]",
            "text/plain": [
              "<Figure size 1080x360 with 2 Axes>"
            ]
          },
          "metadata": {
            "needs_background": "light"
          }
        }
      ],
      "source": [
        "fig, (ax1, ax2) = plt.subplots(1, 2, figsize=(15,5))\n",
        "# plot some data\n",
        "ax1.plot(losses, label='loss')\n",
        "#plt.plot(results.history['val_loss'], label='val_loss')\n",
        "ax1.set_title('Training Loss')\n",
        "ax1.legend()\n",
        "# accuracies\n",
        "ax2.plot(accuracies, label='acc')\n",
        "#plt.plot(results.history['val_accuracy_fn'], label='val_acc')\n",
        "ax2.set_title('Training Accuracy')\n",
        "ax2.legend()\n",
        "plt.show()"
      ]
    },
    {
      "cell_type": "code",
      "execution_count": null,
      "metadata": {
        "id": "T8FnBA0INDAY"
      },
      "outputs": [],
      "source": [
        "class Summarising(tf.Module):\n",
        "  def __init__(self, tokenizer_in, tokenizer_out, transformer):\n",
        "    self.tokenizer_in = tokenizer_in\n",
        "    self.tokenizer_out = tokenizer_out\n",
        "    self.transformer = transformer\n",
        "\n",
        "  def __call__(self, sentence, target_max_len=15):\n",
        "    # Tokenize the input sequence using the tokenizer_in\n",
        "    sentence = sos_token_input + self.tokenizer_in.encode(sentence) + eos_token_input\n",
        "    enc_input = tf.expand_dims(sentence, axis=0)\n",
        "\n",
        "    # Set the initial output sentence to sos\n",
        "    out_sentence = sos_token_output\n",
        "    output = tf.expand_dims(out_sentence, axis=0)\n",
        "\n",
        "    # For max target len tokens\n",
        "    for _ in range(target_max_len):\n",
        "        # Call the transformer and get the logits \n",
        "        predictions, _ = self.transformer(enc_input, output, False)\n",
        "        # Extract the logists of the next word\n",
        "        prediction = predictions[:, -1:, :]\n",
        "        # The highest probability is taken\n",
        "        predicted_id = tf.cast(tf.argmax(prediction, axis=-1), tf.int32)\n",
        "        # Check if it is the eos token\n",
        "        if predicted_id == eos_token_output:\n",
        "            return tf.squeeze(output, axis=0)\n",
        "        # Concat the predicted word to the output sequence\n",
        "        output = tf.concat([output, predicted_id], axis=-1)\n",
        "\n",
        "    # _, attention_weights = transformer(enc_input, output, False)\n",
        "    # output = tf.squeeze(output, axis=0)\n",
        "\n",
        "    return output"
      ]
    },
    {
      "cell_type": "markdown",
      "source": [
        "**Model v35 is now saved - refer to Deployed version for streamlined code to import model, run summaries and generate attention weights.**"
      ],
      "metadata": {
        "id": "vc9XyTMsHH5G"
      }
    },
    {
      "cell_type": "code",
      "source": [
        "tf.saved_model.save(transformer, export_dir=DATA_PATH+\"/modelFINAL\")"
      ],
      "metadata": {
        "colab": {
          "base_uri": "https://localhost:8080/"
        },
        "id": "C9QNJJzyOVAh",
        "outputId": "8724a2e1-8e2a-4d3e-ddb4-d33e881c6d78"
      },
      "execution_count": null,
      "outputs": [
        {
          "output_type": "stream",
          "name": "stderr",
          "text": [
            "WARNING:absl:Found untraced functions such as embedding_layer_call_fn, embedding_layer_call_and_return_conditional_losses, positional_encoding_layer_call_fn, positional_encoding_layer_call_and_return_conditional_losses, dropout_layer_call_fn while saving (showing 5 of 650). These functions will not be directly callable after loading.\n"
          ]
        },
        {
          "output_type": "stream",
          "name": "stdout",
          "text": [
            "INFO:tensorflow:Assets written to: /content/drive/My Drive/Summarisationv2/modelFINAL/assets\n"
          ]
        },
        {
          "output_type": "stream",
          "name": "stderr",
          "text": [
            "INFO:tensorflow:Assets written to: /content/drive/My Drive/Summarisationv2/modelFINAL/assets\n"
          ]
        }
      ]
    },
    {
      "cell_type": "code",
      "source": [
        "reloadedtransformer = tf.saved_model.load(DATA_PATH+\"/modelFINAL\")"
      ],
      "metadata": {
        "id": "iYh3byoJiYWH"
      },
      "execution_count": null,
      "outputs": []
    },
    {
      "cell_type": "code",
      "source": [
        "summariser = Summarising(tokenizer_inputs, tokenizer_outputs, reloadedtransformer)"
      ],
      "metadata": {
        "id": "-OXY0fzGGUzG"
      },
      "execution_count": null,
      "outputs": []
    },
    {
      "cell_type": "code",
      "source": [
        "def extract(output):\n",
        "    tokens = output.numpy()\n",
        "    sentence = tokenizer_outputs.decode(\n",
        "        [i for i in tokens if i < sos_token_output])\n",
        "    return sentence"
      ],
      "metadata": {
        "id": "8XeznrnyaAKt"
      },
      "execution_count": null,
      "outputs": []
    },
    {
      "cell_type": "code",
      "source": [
        "sentence = \"congress often overreach but usually not the very first day house republicans the verge washington takeover the new congress convened tuesday could not stop themselves from trying dilute the power despised ethics watchdog their first order business the process\"\n",
        "summary_tok = summariser(sentence)"
      ],
      "metadata": {
        "id": "UJWw6r0uGXuQ"
      },
      "execution_count": null,
      "outputs": []
    },
    {
      "cell_type": "code",
      "source": [
        "extract(summary_tok)"
      ],
      "metadata": {
        "colab": {
          "base_uri": "https://localhost:8080/",
          "height": 36
        },
        "id": "DE2HVHgSaWp6",
        "outputId": "0c5cf11c-4b00-44c2-96f3-6b1d3ffe6426"
      },
      "execution_count": null,
      "outputs": [
        {
          "output_type": "execute_result",
          "data": {
            "application/vnd.google.colaboratory.intrinsic+json": {
              "type": "string"
            },
            "text/plain": [
              "'states no smart freedom of republicans do not move past tax returns says'"
            ]
          },
          "metadata": {},
          "execution_count": 65
        }
      ]
    },
    {
      "cell_type": "code",
      "source": [
        "input_sent = sos_token_input + tokenizer_inputs.encode(sentence) + eos_token_input\n",
        "enc_input = tf.expand_dims(input_sent, axis=0)"
      ],
      "metadata": {
        "id": "QQpomJ17udrA"
      },
      "execution_count": null,
      "outputs": []
    },
    {
      "cell_type": "code",
      "source": [
        "_, attention_weights = transformer(enc_input, tf.expand_dims(summary_tok, axis=0), False)"
      ],
      "metadata": {
        "id": "G56lFxUcuIpi"
      },
      "execution_count": null,
      "outputs": []
    },
    {
      "cell_type": "code",
      "source": [
        "attention_weights"
      ],
      "metadata": {
        "id": "CXiyDlPGwpAr"
      },
      "execution_count": null,
      "outputs": []
    },
    {
      "cell_type": "code",
      "execution_count": null,
      "metadata": {
        "id": "DmSM2TkINTgq"
      },
      "outputs": [],
      "source": [
        "def plot_attention_head(in_tokens, translated_tokens, attention):\n",
        "  # The plot is of the attention when a token was generated.\n",
        "  # The model didn't generate `<START>` in the output. Skip it.\n",
        "  translated_tokens = translated_tokens[1:]\n",
        "\n",
        "  ax = plt.gca()\n",
        "  ax.matshow(attention)\n",
        "  ax.set_xticks(range(len(in_tokens)))\n",
        "  ax.set_yticks(range(len(translated_tokens)))"
      ]
    },
    {
      "cell_type": "code",
      "source": [
        "head = 0\n",
        "# shape: (batch=1, num_heads, seq_len_q, seq_len_k)\n",
        "attention_heads = tf.squeeze(\n",
        "  attention_weights['decoder_layer4_block2'], 0)\n",
        "attention = attention_heads[head]\n",
        "attention.shape"
      ],
      "metadata": {
        "colab": {
          "base_uri": "https://localhost:8080/"
        },
        "id": "oXoKCu3Fz5Pe",
        "outputId": "9aaa573d-b45a-434a-8bde-0de137a33438"
      },
      "execution_count": null,
      "outputs": [
        {
          "output_type": "execute_result",
          "data": {
            "text/plain": [
              "TensorShape([14, 34])"
            ]
          },
          "metadata": {},
          "execution_count": 52
        }
      ]
    },
    {
      "cell_type": "code",
      "source": [
        "def plot_attention_weights(sentence, summary_tok, attention_heads):\n",
        "  in_tokens = tokenizer_inputs.encode(sentence)\n",
        "  in_tokens = tf.expand_dims(in_tokens, axis=0)\n",
        "\n",
        "  fig = plt.figure(figsize=(16, 8))\n",
        "\n",
        "  for h, head in enumerate(attention_heads):\n",
        "    ax = fig.add_subplot(2, 4, h+1)\n",
        "\n",
        "    plot_attention_head(in_tokens, summary_tok, head)\n",
        "\n",
        "    ax.set_xlabel(f'Head {h+1}')\n",
        "\n",
        "  plt.tight_layout()\n",
        "  plt.show()"
      ],
      "metadata": {
        "id": "WJF8PFwo4Yoj"
      },
      "execution_count": null,
      "outputs": []
    },
    {
      "cell_type": "code",
      "source": [
        "plot_attention_weights(sentence, summary_tok,\n",
        "                       attention_weights['decoder_layer4_block2'][0])"
      ],
      "metadata": {
        "colab": {
          "base_uri": "https://localhost:8080/",
          "height": 405
        },
        "id": "OhoZp-diZqJR",
        "outputId": "0082da2b-651e-400b-82a2-41895411aca3"
      },
      "execution_count": null,
      "outputs": [
        {
          "output_type": "display_data",
          "data": {
            "image/png": "[encoded data removed]",
            "text/plain": [
              "<Figure size 1152x576 with 8 Axes>"
            ]
          },
          "metadata": {
            "needs_background": "light"
          }
        }
      ]
    }
  ],
  "metadata": {
    "colab": {
      "collapsed_sections": [],
      "name": "MLTransformer.ipynb",
      "provenance": [],
      "authorship_tag": "ABX9TyP2m8oqgk2kxePwW2IOhV8D",
      "include_colab_link": true
    },
    "kernelspec": {
      "display_name": "Python 3",
      "name": "python3"
    },
    "language_info": {
      "name": "python"
    },
    "accelerator": "GPU"
  },
  "nbformat": 4,
  "nbformat_minor": 0
}